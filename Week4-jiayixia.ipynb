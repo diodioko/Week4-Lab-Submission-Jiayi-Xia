{
 "cells": [
  {
   "cell_type": "code",
   "execution_count": 1,
   "metadata": {},
   "outputs": [
    {
     "name": "stdout",
     "output_type": "stream",
     "text": [
      "......................\n",
      "......##########......\n",
      "......#~~~~~~~~#......\n",
      "......#~~~~~~~~#......\n",
      "......#~~~~~~~~#####..\n",
      "....###~~~~~~~~~~~~#..\n",
      "....#~~~~~~~~~~~~###..\n",
      "....##############....\n"
     ]
    }
   ],
   "source": [
    "from typing import List\n",
    "\n",
    "def flood_fill(input_board: List[str], old: str, new: str, x: int, y: int) -> List[str]:\n",
    "    if invalid_length(input_board):\n",
    "        raise ValueError('input boards length invalid')\n",
    "    if x < 0 or x >= len(input_board) or y < 0 or y >= len(input_board[0]) or input_board[x][y] != old:\n",
    "        return input_board\n",
    "    \n",
    "    input_board[x] = input_board[x][:y] + new + input_board[x][y+1:]\n",
    "    \n",
    "    flood_fill(input_board, old, new, x+1, y)  # Fill down\n",
    "    flood_fill(input_board, old, new, x-1, y)  # Fill up\n",
    "    flood_fill(input_board, old, new, x, y+1)  # Fill right\n",
    "    flood_fill(input_board, old, new, x, y-1)  # Fill left\n",
    "    \n",
    "    return input_board\n",
    "\n",
    "def display_board(board):\n",
    "    for row in board:\n",
    "        print(row)\n",
    "\n",
    "def invalid_length(board) -> bool:\n",
    "    for row in board:\n",
    "        if len(row) != len(board[0]):\n",
    "            return True\n",
    "    return False\n",
    "\n",
    "board = [\n",
    "    \"......................\",\n",
    "    \"......##########......\",\n",
    "    \"......#........#......\",\n",
    "    \"......#........#......\",\n",
    "    \"......#........#####..\",\n",
    "    \"....###............#..\",\n",
    "    \"....#............###..\",\n",
    "    \"....##############....\",\n",
    "]\n",
    "\n",
    "flood_fill(board, \".\", \"~\", 4, 14)\n",
    "\n",
    "display_board(board)\n"
   ]
  },
  {
   "cell_type": "code",
   "execution_count": null,
   "metadata": {},
   "outputs": [],
   "source": []
  },
  {
   "cell_type": "code",
   "execution_count": null,
   "metadata": {},
   "outputs": [],
   "source": []
  }
 ],
 "metadata": {
  "kernelspec": {
   "display_name": "Python 3",
   "language": "python",
   "name": "python3"
  },
  "language_info": {
   "codemirror_mode": {
    "name": "ipython",
    "version": 3
   },
   "file_extension": ".py",
   "mimetype": "text/x-python",
   "name": "python",
   "nbconvert_exporter": "python",
   "pygments_lexer": "ipython3",
   "version": "3.9.6"
  }
 },
 "nbformat": 4,
 "nbformat_minor": 2
}
